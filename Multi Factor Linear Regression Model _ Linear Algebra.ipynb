{
 "cells": [
  {
   "cell_type": "markdown",
   "metadata": {},
   "source": [
    "# TODO\n",
    "- edit calculate beta to get it right\n",
    "- cubic spline interpolation for GDP data\n",
    "\n",
    "\n",
    "# Deliverables\n",
    "\n",
    "- variance-covariance matrix, weights, and avg. returns\n",
    "- 5 stock betas in csv\n",
    "- 5 stock daily returns in csv\n",
    "- inflation, GDP, employment rate, market risk premium\n",
    "- correlation matrix between economic factors\n",
    "\n",
    "### Other\n",
    " - add frequency parameter to pull data\n",
    " - make linear regression more explicit so we can see the linear transformation happening\n",
    " - use cubic splines to interpolate monthly GDP numbers - a linear algebra problem\n",
    " - find beta of portfolio"
   ]
  },
  {
   "cell_type": "code",
   "execution_count": 1,
   "metadata": {
    "collapsed": false,
    "scrolled": true
   },
   "outputs": [
    {
     "name": "stdout",
     "output_type": "stream",
     "text": [
      "complete\n"
     ]
    }
   ],
   "source": [
    "%matplotlib inline\n",
    "import pandas_datareader.data as web\n",
    "import datetime    \n",
    "import pandas as pd\n",
    "import numpy as np\n",
    "import matplotlib.pyplot as plt\n",
    "from scipy import stats\n",
    "from scipy.interpolate import interp1d\n",
    "\n",
    "def calculate_return(seriesArr):\n",
    "    return (seriesArr / seriesArr.shift(1)) -1\n",
    "\n",
    "def get_weighted_portfolio_returns(stock_returns, weight_vector):\n",
    "    return stock_returns.dot(weight_vector)\n",
    "    \n",
    "def get_returns(data):\n",
    "    \"\"\"\n",
    "    Description: returns a matrix dataframe of all stock returns\n",
    "    Parameters:\n",
    "    ==========\n",
    "    data - DataFrame:\n",
    "    \n",
    "    Return:\n",
    "    ======\n",
    "    \"\"\"\n",
    "    if type(data) == pd.DataFrame:\n",
    "        li = []\n",
    "        for ticker in data.columns:\n",
    "            stock_return = pd.DataFrame(calculate_return(data[ticker]))\n",
    "            li.append(stock_return)\n",
    "        temp = pd.concat(li, axis=1, join='inner')\n",
    "        return temp.dropna()\n",
    "    else:\n",
    "        return\n",
    "\n",
    "def get_excess_returns(stock_returns, rf):\n",
    "    \"\"\"\n",
    "    Parameters:\n",
    "    ==========\n",
    "    stock_returns - matrix dataframe:\n",
    "    rf - vector dataframe:\n",
    "    \"\"\"\n",
    "    #make sure the dates are the same on both input matrices\n",
    "    returns = pd.concat([stock_returns, rf], axis=1, join='outer')\n",
    "    returns.dropna(inplace=True)\n",
    "    rf_vec = returns[['avg_rate']]\n",
    "    del returns['avg_rate']\n",
    "    \n",
    "    #get excess returns\n",
    "    n = len(returns.columns)\n",
    "    rf_matrix = np.tile(np.array(rf_vec),(1,n))\n",
    "    return returns - rf_matrix\n",
    "\n",
    "def get_var_covar_matrix(stock_returns):\n",
    "    \"\"\"\n",
    "    \n",
    "    A simpler way to implement is to use\n",
    "        a = np.array([stock_returns[ticker] for ticker in stock_returns.columns])\n",
    "        b = np.cov(a)\n",
    "    \"\"\"\n",
    "    n = len(stock_returns.columns)\n",
    "    cov_stocks = np.zeros((n,n))\n",
    "    for i, t1 in enumerate(stock_returns.columns):\n",
    "        for j, t2 in enumerate(stock_returns.columns):\n",
    "            cov_stocks[i,j] = stock_returns[t1].cov(stock_returns[t2])\n",
    "    return cov_stocks    \n",
    "\n",
    "def get_weights(varCovar, returns):\n",
    "    \"\"\"\n",
    "    Parameters:\n",
    "    ==========\n",
    "    excess_returns - matrix dataframe:\n",
    "    varCovar - matrix dataframe:\n",
    "    \"\"\"\n",
    "    return_avgs = returns.mean()\n",
    "    inv_varCovar = np.linalg.inv(varCovar)\n",
    "    pre_weights = np.dot(inv_varCovar,return_avgs)\n",
    "    \n",
    "    #normalize the weights\n",
    "    real_weights = (pre_weights / pre_weights.sum())\n",
    "    df = pd.DataFrame(real_weights, index=returns.columns)\n",
    "    return df\n",
    "\n",
    "def get_geometric_average(df, n=13, period='d', convert_to='m', dataType='tbill'):\n",
    "    \"\"\"\n",
    "    Take the quoted rates on n-period time series and convert to a scaled value using geometric average.\n",
    "    \n",
    "    Parameters:\n",
    "    ==========\n",
    "        df - dataframe:\n",
    "            A pandas dataframe of the values you wish to convert\n",
    "        n - int:\n",
    "            The published period - less than 1 year, 12 months, 52 weeks, 360 days, etc.\n",
    "        period - string:\n",
    "            The period duration - day, week, month, etc.\n",
    "        convert_to - string:\n",
    "            The period you want to covert over to\n",
    "            \n",
    "    Output:\n",
    "    ======\n",
    "        Returns a Dataframe with the average rates\n",
    "        \n",
    "    Examples:\n",
    "    ========\n",
    "        get_geometric_average(data, 13, 'w', 'd') - Finds the daily average for each record in the 13 week tbill dataset.\n",
    "     \"\"\"\n",
    "    def prepare_tbill_data(df, n, period):\n",
    "        \"\"\"\n",
    "        Converts the tbill published rates to actual values for the n-period.\n",
    "        \"\"\"\n",
    "        df['Rate'] = 100 / (100 - df[['Close']]*(n / period_types_in_year[period])) - 1\n",
    "        return df[['Rate']]\n",
    "    \n",
    "    def convert_period_value(n, period, convert_to):\n",
    "        \"\"\"\n",
    "        \"\"\"\n",
    "        return n * (1 / period_types_in_year[period]) * (1 / period_types_in_year[convert_to])\n",
    "    \n",
    "    period_types_in_year = {'d':360, 'w':52, 'm':12}\n",
    "    dataTypes = ['tbill','other']\n",
    "    \n",
    "    assert period in period_types_in_year.keys(), str(period) + \" not a valid entry\"\n",
    "    assert convert_to in period_types_in_year.keys(), str(convert_to) + ' not a valid entry'\n",
    "    assert dataType in dataTypes, 'dataType not a valid entry'    \n",
    "    \n",
    "    if dataType == 'tbill':\n",
    "        df = prepare_tbill_data(df, n, period)\n",
    "        \n",
    "    x = convert_period_value(n, period, convert_to)\n",
    "    df['avg_rate'] = (1 + df['Rate']) ** (1/x) - 1\n",
    "    return df[['avg_rate']]\n",
    "\n",
    "def temp(dates, series, title, n):\n",
    "    a = list(zip(dates,series))\n",
    "    b = pd.DataFrame(a, columns=['Date',title])\n",
    "    b = b.set_index('Date')\n",
    "    c = get_returns(b)\n",
    "    d = dates[n:]\n",
    "    e = c.iloc[len(c)-1,0]\n",
    "    li = [e for i in range(-n)]\n",
    "    f = list(zip(d, li))\n",
    "    g = pd.DataFrame(f, columns=['Date',title])\n",
    "    g = g.set_index('Date')\n",
    "    return c.append(g)\n",
    "\n",
    "def get_GDP_returns(df, dates):\n",
    "    x = [x for x in range(len(list(df.index)))]\n",
    "    y = GDP_df.GDPC1\n",
    "    f = interp1d(x, y)\n",
    "    f2 = interp1d(x, y, kind='cubic')\n",
    "    xnew = np.linspace(0, 11, num=34, endpoint=True)\n",
    "    \n",
    "    a = f(xnew)\n",
    "    return temp(dates,a,'GDP',-4)\n",
    "    plt.plot(x, y, 'o', xnew, f(xnew), '-', xnew, f2(xnew), '--')\n",
    "    plt.legend(['data', 'linear', 'cubic'], loc='best')\n",
    "    plt.show()\n",
    "    \n",
    "def get_inflation_returns(df,dates):\n",
    "    a = df['CPIAUCSL']\n",
    "    return temp(dates, a, 'Inflation', -1)\n",
    "\n",
    "def calculate_beta(independent_vars, dependent_vars):\n",
    "    \"\"\"\n",
    "    Uses linear algebra to calculate beta(s) of return(s) to input factors.\n",
    "    \n",
    "    Parameters:\n",
    "    ==========\n",
    "    independent_vars - Dataframe (m x n  Matrix):\n",
    "        - the factor on which to regress\n",
    "    dependent_vars - Dataframe (m x k  Matrix):\n",
    "        - the variables with which to understand a relationship\n",
    "    \n",
    "    Returns:\n",
    "    =======\n",
    "    A dataframe - vector or matrix of betas of n asset returns on k factors\n",
    "    \"\"\"\n",
    "    assert type(independent_vars) == pd.DataFrame, 'input_var not a valid parameter'\n",
    "    assert type(dependent_vars) == pd.DataFrame, 'output_var not a valid parameter'\n",
    "    \n",
    "    A = independent_vars\n",
    "    A_t = independent_vars.transpose()\n",
    "    B = np.dot(A_t,A)\n",
    "    B_inv = pd.DataFrame(np.linalg.inv(B))\n",
    "    C = A_t.dot(dependent_vars)\n",
    "    C.reset_index(inplace=True)\n",
    "    del C['index']\n",
    "    beta = B_inv.dot(C)\n",
    "    return beta\n",
    "\n",
    "def pull_data(tickers, start, end=None, interval=None,provider=None):\n",
    "    \"\"\"\n",
    "    \"\"\" \n",
    "    if provider == 'yahoo':\n",
    "        return web.get_data_yahoo(tickers,start, end=end, interval=interval)\n",
    "    elif provider == 'google':\n",
    "        return web.get_data_google(tickers, start, end=end, interval=interval)\n",
    "    elif provider == 'fred':\n",
    "        return web.get_data_fred(tickers, start, end)\n",
    "    else:\n",
    "        return None\n",
    "    \n",
    "def get_dates(data_object):\n",
    "    \"\"\"\n",
    "    \"\"\"\n",
    "    if type(data_object) == pd.Panel:\n",
    "        return data_object.major_axis\n",
    "    elif type(data_object) == pd.DataFrame:\n",
    "        return data_object.index\n",
    "    else:\n",
    "        assert False, 'Passed object is invalid'\n",
    "        return None\n",
    "    \n",
    "def main():\n",
    "    START = datetime.datetime(2013, 10, 1)\n",
    "    END   = datetime.datetime(2016, 11, 15)\n",
    "    INTERVAL = 'm'\n",
    "    STOCK_LIST = [\"AMZN\",\"CME\",\"MMM\",\"ABT\",\"ACN\",\"BBBY\",\"GOOG\",\"CMG\"]\n",
    "    BENCHMARK = '^GSPC'\n",
    "    TBILL = '^IRX'\n",
    "    INFLATION = 'CPIAUCSL'\n",
    "    UNEMPLOYMENT = 'UNRATE'\n",
    "    GDP = 'GDPC1' \n",
    "    \n",
    "    stock_data = pull_data(STOCK_LIST, START, END, INTERVAL, 'yahoo')\n",
    "    benchmark_df = pull_data(BENCHMARK, START, END, INTERVAL, 'yahoo')\n",
    "    tbill_df= pull_data(TBILL, START, END, INTERVAL, 'yahoo')\n",
    "    inflation_df = pull_data(INFLATION, START, END, provider='fred')\n",
    "    unemployment_df = pull_data(UNEMPLOYMENT, START, END, provider='fred')\n",
    "    GDP_df = pull_data(GDP, START, END, provider='fred')\n",
    "    \n",
    "    tbill_geoAvg = get_geometric_average(tbill_df, 13, 'w', 'm')\n",
    "    unemployment1 = (1 + (unemployment_df / 100)) ** (1/12) - 1\n",
    "    unemployment2 = temp(dates, unemployment1['UNRATE'], 'UNRATE',0)\n",
    "    unemployment_geoAvg = unemployment2[unemployment2.index != '2013-10-01']\n",
    "    \n",
    "    dates = list(get_dates(stock_data))\n",
    "    stock_returns = get_returns(stock_data.Close)\n",
    "    benchmark_returns = get_returns(benchmark_df[['Close']])\n",
    "    inflation_returns = get_inflation_returns(inflation_df, dates)\n",
    "    \n",
    "    GDP_returns = get_GDP_returns(GDP_df,dates)\n",
    "    \n",
    "    varCovar_matrix = get_var_covar_matrix(stock_returns)\n",
    "    weights = get_weights(varCovar_matrix, stock_returns)\n",
    "    \n",
    "    # Single Factor Model\n",
    "    equity_risk_premium = get_excess_returns(stock_returns,tbill_geoAvg)\n",
    "    market_risk_premium = get_excess_returns(benchmark_returns,tbill_geoAvg)\n",
    "    beta_single_factor = calculate_beta(market_risk_premium,equity_risk_premium)\n",
    "    \n",
    "    # Markowitz Portfolio Optimization\n",
    "    portfolio_returns = stock_returns.dot(weights).rename(columns={0:'Portfolio_Returns'})\n",
    "    portfolio_risk_premium = get_excess_returns(portfolio_returns, tbill_geoAvg)\n",
    "    \n",
    "    # Multifactor Model\n",
    "    factor_ret_list = [GDP_returns, unemployment_geoAvg, market_risk_premium, inflation_returns]\n",
    "    factors = pd.concat(factor_ret_list, axis=1, join='inner')\n",
    "    \n",
    "    beta_multi_factor = calculate_beta(factors, portfolio_risk_premium)\n",
    "    \n",
    "if __name__ == '__main__':\n",
    "    #main()\n",
    "    print('complete')\n"
   ]
  },
  {
   "cell_type": "markdown",
   "metadata": {},
   "source": [
    "# Main Function"
   ]
  },
  {
   "cell_type": "code",
   "execution_count": 70,
   "metadata": {
    "collapsed": false,
    "scrolled": true
   },
   "outputs": [
    {
     "name": "stderr",
     "output_type": "stream",
     "text": [
      "C:\\Anaconda3\\lib\\site-packages\\ipykernel\\__main__.py:130: SettingWithCopyWarning: \n",
      "A value is trying to be set on a copy of a slice from a DataFrame.\n",
      "Try using .loc[row_indexer,col_indexer] = value instead\n",
      "\n",
      "See the caveats in the documentation: http://pandas.pydata.org/pandas-docs/stable/indexing.html#indexing-view-versus-copy\n"
     ]
    }
   ],
   "source": [
    "    START = datetime.datetime(2013, 10, 1)\n",
    "    END   = datetime.datetime(2016, 11, 15)\n",
    "    INTERVAL = 'm'\n",
    "    STOCK_LIST = [\"AMZN\",\"CME\",\"MMM\",\"ABT\",\"ACN\",\"BBBY\",\"GOOG\",\"CMG\"]\n",
    "    BENCHMARK = '^GSPC'\n",
    "    TBILL = '^IRX'\n",
    "    INFLATION = 'CPIAUCSL'\n",
    "    UNEMPLOYMENT = 'UNRATE'\n",
    "    GDP = 'GDPC1' \n",
    "    \n",
    "    stock_data = pull_data(STOCK_LIST, START, END, INTERVAL, 'yahoo')\n",
    "    benchmark_df = pull_data(BENCHMARK, START, END, INTERVAL, 'yahoo')\n",
    "    tbill_df= pull_data(TBILL, START, END, INTERVAL, 'yahoo')\n",
    "    inflation_df = pull_data(INFLATION, START, END, provider='fred')\n",
    "    unemployment_df = pull_data(UNEMPLOYMENT, START, END, provider='fred')\n",
    "    GDP_df = pull_data(GDP, START, END, provider='fred')\n",
    "    \n",
    "    dates = list(get_dates(stock_data))\n",
    "    \n",
    "    tbill_geoAvg = get_geometric_average(tbill_df, 13, 'w', 'm')\n",
    "    unemployment1 = (1 + (unemployment_df / 100)) ** (1/12) - 1\n",
    "    unemployment2 = temp(dates, unemployment1['UNRATE'], 'UNRATE',0)\n",
    "    unemployment_geoAvg = unemployment2[unemployment2.index != '2013-10-01']\n",
    "    \n",
    "    \n",
    "    stock_returns = get_returns(stock_data.Close)\n",
    "    benchmark_returns = get_returns(benchmark_df[['Close']])\n",
    "    inflation_returns = get_inflation_returns(inflation_df, dates)\n",
    "    \n",
    "    GDP_returns = get_GDP_returns(GDP_df,dates)\n",
    "    \n",
    "    varCovar_matrix = get_var_covar_matrix(stock_returns)\n",
    "    weights = get_weights(varCovar_matrix, stock_returns)\n",
    "    \n",
    "    # Single Factor Model\n",
    "    equity_risk_premium = get_excess_returns(stock_returns,tbill_geoAvg)\n",
    "    market_risk_premium = get_excess_returns(benchmark_returns,tbill_geoAvg)\n",
    "    beta_single_factor = calculate_beta(market_risk_premium,equity_risk_premium)\n",
    "    \n",
    "    # Markowitz Portfolio Optimization\n",
    "    portfolio_returns = stock_returns.dot(weights).rename(columns={0:'Portfolio_Returns'})\n",
    "    portfolio_risk_premium = get_excess_returns(portfolio_returns, tbill_geoAvg)\n",
    "    \n",
    "    # Multifactor Model\n",
    "    factor_ret_list = [GDP_returns, unemployment_geoAvg, market_risk_premium, inflation_returns]\n",
    "    factors = pd.concat(factor_ret_list, axis=1, join='inner')\n",
    "    factors_corr = factors.corr()\n",
    "    \n",
    "    beta_multi_factor = calculate_beta(factors, portfolio_risk_premium)"
   ]
  },
  {
   "cell_type": "code",
   "execution_count": 107,
   "metadata": {
    "collapsed": false,
    "scrolled": true
   },
   "outputs": [
    {
     "data": {
      "text/html": [
       "<div>\n",
       "<table border=\"1\" class=\"dataframe\">\n",
       "  <thead>\n",
       "    <tr style=\"text-align: right;\">\n",
       "      <th></th>\n",
       "      <th>Portfolio_Returns</th>\n",
       "    </tr>\n",
       "  </thead>\n",
       "  <tbody>\n",
       "    <tr>\n",
       "      <th>0</th>\n",
       "      <td>5.655861</td>\n",
       "    </tr>\n",
       "    <tr>\n",
       "      <th>1</th>\n",
       "      <td>-0.622820</td>\n",
       "    </tr>\n",
       "    <tr>\n",
       "      <th>2</th>\n",
       "      <td>0.776697</td>\n",
       "    </tr>\n",
       "    <tr>\n",
       "      <th>3</th>\n",
       "      <td>4.571911</td>\n",
       "    </tr>\n",
       "  </tbody>\n",
       "</table>\n",
       "</div>"
      ],
      "text/plain": [
       "   Portfolio_Returns\n",
       "0           5.655861\n",
       "1          -0.622820\n",
       "2           0.776697\n",
       "3           4.571911"
      ]
     },
     "execution_count": 107,
     "metadata": {},
     "output_type": "execute_result"
    }
   ],
   "source": [
    "beta_multi_factor"
   ]
  },
  {
   "cell_type": "code",
   "execution_count": null,
   "metadata": {
    "collapsed": true
   },
   "outputs": [],
   "source": [
    "    A = factors\n",
    "    A_t = independent_vars.transpose()\n",
    "    B = np.dot(A_t,A)\n",
    "    B_inv = pd.DataFrame(np.linalg.inv(B))\n",
    "    C = A_t.dot(dependent_vars)\n",
    "    C.reset_index(inplace=True)\n",
    "    del C['index']\n",
    "    beta = B_inv.dot(C)\n",
    "    return beta"
   ]
  },
  {
   "cell_type": "code",
   "execution_count": 108,
   "metadata": {
    "collapsed": true
   },
   "outputs": [],
   "source": [
    "A = factors"
   ]
  },
  {
   "cell_type": "code",
   "execution_count": 110,
   "metadata": {
    "collapsed": false
   },
   "outputs": [
    {
     "data": {
      "text/html": [
       "<div>\n",
       "<table border=\"1\" class=\"dataframe\">\n",
       "  <thead>\n",
       "    <tr style=\"text-align: right;\">\n",
       "      <th>Date</th>\n",
       "      <th>2013-11-01 00:00:00</th>\n",
       "      <th>2013-12-02 00:00:00</th>\n",
       "      <th>2014-01-02 00:00:00</th>\n",
       "      <th>2014-02-03 00:00:00</th>\n",
       "      <th>2014-03-03 00:00:00</th>\n",
       "      <th>2014-04-01 00:00:00</th>\n",
       "      <th>2014-05-01 00:00:00</th>\n",
       "      <th>2014-06-02 00:00:00</th>\n",
       "      <th>2014-07-01 00:00:00</th>\n",
       "      <th>2014-08-01 00:00:00</th>\n",
       "      <th>...</th>\n",
       "      <th>2016-02-01 00:00:00</th>\n",
       "      <th>2016-03-01 00:00:00</th>\n",
       "      <th>2016-04-01 00:00:00</th>\n",
       "      <th>2016-05-02 00:00:00</th>\n",
       "      <th>2016-06-01 00:00:00</th>\n",
       "      <th>2016-07-01 00:00:00</th>\n",
       "      <th>2016-08-01 00:00:00</th>\n",
       "      <th>2016-09-01 00:00:00</th>\n",
       "      <th>2016-10-03 00:00:00</th>\n",
       "      <th>2016-11-01 00:00:00</th>\n",
       "    </tr>\n",
       "  </thead>\n",
       "  <tbody>\n",
       "    <tr>\n",
       "      <th>GDP</th>\n",
       "      <td>-0.000990</td>\n",
       "      <td>-0.000991</td>\n",
       "      <td>-0.000992</td>\n",
       "      <td>0.003256</td>\n",
       "      <td>0.003245</td>\n",
       "      <td>0.003235</td>\n",
       "      <td>0.004061</td>\n",
       "      <td>0.004044</td>\n",
       "      <td>0.004028</td>\n",
       "      <td>0.001910</td>\n",
       "      <td>...</td>\n",
       "      <td>0.001172</td>\n",
       "      <td>0.001171</td>\n",
       "      <td>0.001169</td>\n",
       "      <td>0.002601</td>\n",
       "      <td>0.002594</td>\n",
       "      <td>0.002588</td>\n",
       "      <td>0.002588</td>\n",
       "      <td>0.002588</td>\n",
       "      <td>0.002588</td>\n",
       "      <td>0.002588</td>\n",
       "    </tr>\n",
       "    <tr>\n",
       "      <th>UNRATE</th>\n",
       "      <td>-0.040420</td>\n",
       "      <td>-0.028142</td>\n",
       "      <td>-0.014497</td>\n",
       "      <td>0.014710</td>\n",
       "      <td>0.000000</td>\n",
       "      <td>-0.072610</td>\n",
       "      <td>0.000000</td>\n",
       "      <td>-0.015700</td>\n",
       "      <td>0.015950</td>\n",
       "      <td>0.000000</td>\n",
       "      <td>...</td>\n",
       "      <td>0.000000</td>\n",
       "      <td>0.019959</td>\n",
       "      <td>0.000000</td>\n",
       "      <td>-0.058756</td>\n",
       "      <td>0.041634</td>\n",
       "      <td>0.000000</td>\n",
       "      <td>0.000000</td>\n",
       "      <td>0.019959</td>\n",
       "      <td>-0.019568</td>\n",
       "      <td>-0.059981</td>\n",
       "    </tr>\n",
       "    <tr>\n",
       "      <th>MRP</th>\n",
       "      <td>0.021427</td>\n",
       "      <td>0.015974</td>\n",
       "      <td>-0.036784</td>\n",
       "      <td>0.037943</td>\n",
       "      <td>0.003566</td>\n",
       "      <td>0.003798</td>\n",
       "      <td>0.017424</td>\n",
       "      <td>0.016655</td>\n",
       "      <td>-0.017242</td>\n",
       "      <td>0.035493</td>\n",
       "      <td>...</td>\n",
       "      <td>-0.041795</td>\n",
       "      <td>0.042555</td>\n",
       "      <td>-0.020737</td>\n",
       "      <td>-0.019231</td>\n",
       "      <td>-0.029306</td>\n",
       "      <td>0.006382</td>\n",
       "      <td>-0.040382</td>\n",
       "      <td>-0.032937</td>\n",
       "      <td>-0.055473</td>\n",
       "      <td>-0.034836</td>\n",
       "    </tr>\n",
       "    <tr>\n",
       "      <th>Inflation</th>\n",
       "      <td>0.001758</td>\n",
       "      <td>0.002720</td>\n",
       "      <td>0.002508</td>\n",
       "      <td>0.000786</td>\n",
       "      <td>0.001171</td>\n",
       "      <td>0.002535</td>\n",
       "      <td>0.001302</td>\n",
       "      <td>0.000899</td>\n",
       "      <td>0.001025</td>\n",
       "      <td>-0.000405</td>\n",
       "      <td>...</td>\n",
       "      <td>-0.001680</td>\n",
       "      <td>0.000896</td>\n",
       "      <td>0.004077</td>\n",
       "      <td>0.002147</td>\n",
       "      <td>0.002105</td>\n",
       "      <td>-0.000404</td>\n",
       "      <td>0.002047</td>\n",
       "      <td>0.002917</td>\n",
       "      <td>0.003573</td>\n",
       "      <td>0.003573</td>\n",
       "    </tr>\n",
       "  </tbody>\n",
       "</table>\n",
       "<p>4 rows × 37 columns</p>\n",
       "</div>"
      ],
      "text/plain": [
       "Date       2013-11-01  2013-12-02  2014-01-02  2014-02-03  2014-03-03  \\\n",
       "GDP         -0.000990   -0.000991   -0.000992    0.003256    0.003245   \n",
       "UNRATE      -0.040420   -0.028142   -0.014497    0.014710    0.000000   \n",
       "MRP          0.021427    0.015974   -0.036784    0.037943    0.003566   \n",
       "Inflation    0.001758    0.002720    0.002508    0.000786    0.001171   \n",
       "\n",
       "Date       2014-04-01  2014-05-01  2014-06-02  2014-07-01  2014-08-01  \\\n",
       "GDP          0.003235    0.004061    0.004044    0.004028    0.001910   \n",
       "UNRATE      -0.072610    0.000000   -0.015700    0.015950    0.000000   \n",
       "MRP          0.003798    0.017424    0.016655   -0.017242    0.035493   \n",
       "Inflation    0.002535    0.001302    0.000899    0.001025   -0.000405   \n",
       "\n",
       "Date          ...      2016-02-01  2016-03-01  2016-04-01  2016-05-02  \\\n",
       "GDP           ...        0.001172    0.001171    0.001169    0.002601   \n",
       "UNRATE        ...        0.000000    0.019959    0.000000   -0.058756   \n",
       "MRP           ...       -0.041795    0.042555   -0.020737   -0.019231   \n",
       "Inflation     ...       -0.001680    0.000896    0.004077    0.002147   \n",
       "\n",
       "Date       2016-06-01  2016-07-01  2016-08-01  2016-09-01  2016-10-03  \\\n",
       "GDP          0.002594    0.002588    0.002588    0.002588    0.002588   \n",
       "UNRATE       0.041634    0.000000    0.000000    0.019959   -0.019568   \n",
       "MRP         -0.029306    0.006382   -0.040382   -0.032937   -0.055473   \n",
       "Inflation    0.002105   -0.000404    0.002047    0.002917    0.003573   \n",
       "\n",
       "Date       2016-11-01  \n",
       "GDP          0.002588  \n",
       "UNRATE      -0.059981  \n",
       "MRP         -0.034836  \n",
       "Inflation    0.003573  \n",
       "\n",
       "[4 rows x 37 columns]"
      ]
     },
     "execution_count": 110,
     "metadata": {},
     "output_type": "execute_result"
    }
   ],
   "source": [
    "A_t = A.transpose()\n",
    "A_t"
   ]
  },
  {
   "cell_type": "code",
   "execution_count": 112,
   "metadata": {
    "collapsed": false
   },
   "outputs": [
    {
     "data": {
      "text/plain": [
       "Index(['GDP', 'UNRATE', 'MRP', 'Inflation'], dtype='object')"
      ]
     },
     "execution_count": 112,
     "metadata": {},
     "output_type": "execute_result"
    }
   ],
   "source": [
    "cols = A.columns\n",
    "cols"
   ]
  },
  {
   "cell_type": "code",
   "execution_count": 114,
   "metadata": {
    "collapsed": false
   },
   "outputs": [
    {
     "data": {
      "text/plain": [
       "array([[  1.79138804e-04,  -6.25384643e-04,  -3.09304224e-04,\n",
       "          7.29033858e-05],\n",
       "       [ -6.25384643e-04,   2.88659541e-02,   3.39475561e-03,\n",
       "         -8.62446698e-04],\n",
       "       [ -3.09304224e-04,   3.39475561e-03,   4.41310805e-02,\n",
       "         -1.29275186e-04],\n",
       "       [  7.29033858e-05,  -8.62446698e-04,  -1.29275186e-04,\n",
       "          1.86673601e-04]])"
      ]
     },
     "execution_count": 114,
     "metadata": {},
     "output_type": "execute_result"
    }
   ],
   "source": [
    "B = np.dot(A_t,A)\n",
    "B"
   ]
  },
  {
   "cell_type": "code",
   "execution_count": 117,
   "metadata": {
    "collapsed": false,
    "scrolled": true
   },
   "outputs": [
    {
     "data": {
      "text/html": [
       "<div>\n",
       "<table border=\"1\" class=\"dataframe\">\n",
       "  <thead>\n",
       "    <tr style=\"text-align: right;\">\n",
       "      <th></th>\n",
       "      <th>GDP</th>\n",
       "      <th>UNRATE</th>\n",
       "      <th>MRP</th>\n",
       "      <th>Inflation</th>\n",
       "    </tr>\n",
       "  </thead>\n",
       "  <tbody>\n",
       "    <tr>\n",
       "      <th>GDP</th>\n",
       "      <td>6842.352478</td>\n",
       "      <td>75.372457</td>\n",
       "      <td>35.422554</td>\n",
       "      <td>-2299.450359</td>\n",
       "    </tr>\n",
       "    <tr>\n",
       "      <th>UNRATE</th>\n",
       "      <td>75.372457</td>\n",
       "      <td>41.310058</td>\n",
       "      <td>-2.181053</td>\n",
       "      <td>159.909380</td>\n",
       "    </tr>\n",
       "    <tr>\n",
       "      <th>MRP</th>\n",
       "      <td>35.422554</td>\n",
       "      <td>-2.181053</td>\n",
       "      <td>23.052534</td>\n",
       "      <td>-7.946197</td>\n",
       "    </tr>\n",
       "    <tr>\n",
       "      <th>Inflation</th>\n",
       "      <td>-2299.450359</td>\n",
       "      <td>159.909380</td>\n",
       "      <td>-7.946197</td>\n",
       "      <td>6988.260687</td>\n",
       "    </tr>\n",
       "  </tbody>\n",
       "</table>\n",
       "</div>"
      ],
      "text/plain": [
       "                   GDP      UNRATE        MRP    Inflation\n",
       "GDP        6842.352478   75.372457  35.422554 -2299.450359\n",
       "UNRATE       75.372457   41.310058  -2.181053   159.909380\n",
       "MRP          35.422554   -2.181053  23.052534    -7.946197\n",
       "Inflation -2299.450359  159.909380  -7.946197  6988.260687"
      ]
     },
     "execution_count": 117,
     "metadata": {},
     "output_type": "execute_result"
    }
   ],
   "source": [
    "B_inv = pd.DataFrame(np.linalg.inv(B), index=cols, columns=cols)\n",
    "B_inv"
   ]
  },
  {
   "cell_type": "code",
   "execution_count": 118,
   "metadata": {
    "collapsed": false,
    "scrolled": true
   },
   "outputs": [
    {
     "data": {
      "text/html": [
       "<div>\n",
       "<table border=\"1\" class=\"dataframe\">\n",
       "  <thead>\n",
       "    <tr style=\"text-align: right;\">\n",
       "      <th></th>\n",
       "      <th>Portfolio_Returns</th>\n",
       "    </tr>\n",
       "  </thead>\n",
       "  <tbody>\n",
       "    <tr>\n",
       "      <th>GDP</th>\n",
       "      <td>0.001496</td>\n",
       "    </tr>\n",
       "    <tr>\n",
       "      <th>UNRATE</th>\n",
       "      <td>-0.022822</td>\n",
       "    </tr>\n",
       "    <tr>\n",
       "      <th>MRP</th>\n",
       "      <td>0.029822</td>\n",
       "    </tr>\n",
       "    <tr>\n",
       "      <th>Inflation</th>\n",
       "      <td>0.001703</td>\n",
       "    </tr>\n",
       "  </tbody>\n",
       "</table>\n",
       "</div>"
      ],
      "text/plain": [
       "           Portfolio_Returns\n",
       "GDP                 0.001496\n",
       "UNRATE             -0.022822\n",
       "MRP                 0.029822\n",
       "Inflation           0.001703"
      ]
     },
     "execution_count": 118,
     "metadata": {},
     "output_type": "execute_result"
    }
   ],
   "source": [
    "C = A_t.dot(portfolio_risk_premium)\n",
    "C"
   ]
  },
  {
   "cell_type": "code",
   "execution_count": 119,
   "metadata": {
    "collapsed": true
   },
   "outputs": [],
   "source": [
    "beta = B_inv.dot(C)"
   ]
  },
  {
   "cell_type": "code",
   "execution_count": 120,
   "metadata": {
    "collapsed": false
   },
   "outputs": [
    {
     "data": {
      "text/html": [
       "<div>\n",
       "<table border=\"1\" class=\"dataframe\">\n",
       "  <thead>\n",
       "    <tr style=\"text-align: right;\">\n",
       "      <th></th>\n",
       "      <th>Portfolio_Returns</th>\n",
       "    </tr>\n",
       "  </thead>\n",
       "  <tbody>\n",
       "    <tr>\n",
       "      <th>GDP</th>\n",
       "      <td>5.655861</td>\n",
       "    </tr>\n",
       "    <tr>\n",
       "      <th>UNRATE</th>\n",
       "      <td>-0.622820</td>\n",
       "    </tr>\n",
       "    <tr>\n",
       "      <th>MRP</th>\n",
       "      <td>0.776697</td>\n",
       "    </tr>\n",
       "    <tr>\n",
       "      <th>Inflation</th>\n",
       "      <td>4.571911</td>\n",
       "    </tr>\n",
       "  </tbody>\n",
       "</table>\n",
       "</div>"
      ],
      "text/plain": [
       "           Portfolio_Returns\n",
       "GDP                 5.655861\n",
       "UNRATE             -0.622820\n",
       "MRP                 0.776697\n",
       "Inflation           4.571911"
      ]
     },
     "execution_count": 120,
     "metadata": {},
     "output_type": "execute_result"
    }
   ],
   "source": [
    "beta"
   ]
  },
  {
   "cell_type": "code",
   "execution_count": 104,
   "metadata": {
    "collapsed": false
   },
   "outputs": [],
   "source": [
    "factors = factors.rename(columns={'Close':'MRP'})\n",
    "factors_corr = factors.corr()"
   ]
  },
  {
   "cell_type": "code",
   "execution_count": null,
   "metadata": {
    "collapsed": true
   },
   "outputs": [],
   "source": []
  },
  {
   "cell_type": "markdown",
   "metadata": {},
   "source": [
    "# Plot Correlation Matrix + Heatmap"
   ]
  },
  {
   "cell_type": "code",
   "execution_count": 105,
   "metadata": {
    "collapsed": false,
    "scrolled": true
   },
   "outputs": [
    {
     "data": {
      "text/plain": [
       "<matplotlib.axes._subplots.AxesSubplot at 0x1dd5de59e48>"
      ]
     },
     "execution_count": 105,
     "metadata": {},
     "output_type": "execute_result"
    },
    {
     "data": {
      "image/png": "[encoded data removed]",
      "text/plain": [
       "<matplotlib.figure.Figure at 0x1dd5de62160>"
      ]
     },
     "metadata": {},
     "output_type": "display_data"
    }
   ],
   "source": [
    "import seaborn as sns\n",
    "import matplotlib.pyplot as plt\n",
    "sns.set(context=\"paper\", font=\"monospace\")\n",
    "f, ax = plt.subplots(figsize=(4, 4))\n",
    "sns.heatmap(factors_corr, square=True, annot=True)"
   ]
  },
  {
   "cell_type": "code",
   "execution_count": 106,
   "metadata": {
    "collapsed": false
   },
   "outputs": [
    {
     "data": {
      "text/plain": [
       "<matplotlib.axes._subplots.AxesSubplot at 0x1dd5df54240>"
      ]
     },
     "execution_count": 106,
     "metadata": {},
     "output_type": "execute_result"
    },
    {
     "data": {
      "image/png": "[encoded data removed]",
      "text/plain": [
       "<matplotlib.figure.Figure at 0x1dd5dddda58>"
      ]
     },
     "metadata": {},
     "output_type": "display_data"
    }
   ],
   "source": [
    "sns.heatmap(factors_corr, square=True, annot=True)"
   ]
  },
  {
   "cell_type": "markdown",
   "metadata": {},
   "source": [
    "# Plot Cubic Spline Graph"
   ]
  },
  {
   "cell_type": "code",
   "execution_count": 79,
   "metadata": {
    "collapsed": false,
    "scrolled": false
   },
   "outputs": [
    {
     "data": {
      "image/png": "[encoded data removed]",
      "text/plain": [
       "<matplotlib.figure.Figure at 0x1dd5ca83f60>"
      ]
     },
     "metadata": {},
     "output_type": "display_data"
    }
   ],
   "source": [
    "x = [x for x in range(len(list(GDP_df.index)))]\n",
    "y = GDP_df.GDPC1\n",
    "f = interp1d(x, y)\n",
    "f2 = interp1d(x, y, kind='cubic')\n",
    "xnew = np.linspace(0, 11, num=34, endpoint=True)\n",
    "\n",
    "a = f(xnew)\n",
    "b=  temp(dates,a,'GDP',-4)\n",
    "plt.plot(x, y, 'o', xnew, f(xnew), '-', xnew, f2(xnew), '--')\n",
    "plt.legend(['data', 'linear', 'cubic'], loc='best')\n",
    "plt.show()"
   ]
  },
  {
   "cell_type": "markdown",
   "metadata": {},
   "source": [
    "# Get Portfolio Returns, St. Dev, SR"
   ]
  },
  {
   "cell_type": "code",
   "execution_count": 100,
   "metadata": {
    "collapsed": false
   },
   "outputs": [
    {
     "data": {
      "text/html": [
       "<div>\n",
       "<table border=\"1\" class=\"dataframe\">\n",
       "  <thead>\n",
       "    <tr style=\"text-align: right;\">\n",
       "      <th></th>\n",
       "      <th>E[R_p]</th>\n",
       "      <th>sigma_p</th>\n",
       "      <th>Sharpe</th>\n",
       "    </tr>\n",
       "  </thead>\n",
       "  <tbody>\n",
       "    <tr>\n",
       "      <th>Portfolio_Returns</th>\n",
       "      <td>0.042281</td>\n",
       "      <td>0.063314</td>\n",
       "      <td>0.667799</td>\n",
       "    </tr>\n",
       "  </tbody>\n",
       "</table>\n",
       "</div>"
      ],
      "text/plain": [
       "                     E[R_p]   sigma_p    Sharpe\n",
       "Portfolio_Returns  0.042281  0.063314  0.667799"
      ]
     },
     "execution_count": 100,
     "metadata": {},
     "output_type": "execute_result"
    }
   ],
   "source": [
    "info = {'E[R_p]':portfolio_returns.mean(), 'sigma_p':portfolio_returns.std()}\n",
    "df = pd.DataFrame(info)\n",
    "df['Sharpe'] = df['E[R_p]'] / df['sigma_p']\n",
    "df[['E[R_p]','sigma_p']].applymap('{:,.2f}%'.format)\n",
    "\n",
    "#df['E[R_p]'] = df['E[R_p]'].map('{:,.2f}%'.format)\n",
    "#df['sigma_p'] = df['sigma_p'].map('{:,.2f}%'.format)\n",
    "df"
   ]
  },
  {
   "cell_type": "markdown",
   "metadata": {},
   "source": [
    "# Cubic Spline Example"
   ]
  },
  {
   "cell_type": "code",
   "execution_count": 111,
   "metadata": {
    "collapsed": false
   },
   "outputs": [
    {
     "data": {
      "image/png": "[encoded data removed]",
      "text/plain": [
       "<matplotlib.figure.Figure at 0x214290c8c88>"
      ]
     },
     "metadata": {},
     "output_type": "display_data"
    }
   ],
   "source": [
    "from scipy.interpolate import interp1d\n",
    "x = np.linspace(0, 10, num=11, endpoint=True)\n",
    "y = np.cos(-x**2/9.0)\n",
    "f = interp1d(x, y)\n",
    "f2 = interp1d(x, y, kind='cubic')\n",
    "xnew = np.linspace(0, 10, num=41, endpoint=True)\n",
    "import matplotlib.pyplot as plt\n",
    "plt.plot(x, y, 'o', xnew, f(xnew), '-', xnew, f2(xnew), '--')\n",
    "plt.legend(['data', 'linear', 'cubic'], loc='best')\n",
    "plt.show()"
   ]
  }
 ],
 "metadata": {
  "anaconda-cloud": {},
  "kernelspec": {
   "display_name": "Python [Root]",
   "language": "python",
   "name": "Python [Root]"
  },
  "language_info": {
   "codemirror_mode": {
    "name": "ipython",
    "version": 3
   },
   "file_extension": ".py",
   "mimetype": "text/x-python",
   "name": "python",
   "nbconvert_exporter": "python",
   "pygments_lexer": "ipython3",
   "version": "3.5.2"
  }
 },
 "nbformat": 4,
 "nbformat_minor": 0
}
